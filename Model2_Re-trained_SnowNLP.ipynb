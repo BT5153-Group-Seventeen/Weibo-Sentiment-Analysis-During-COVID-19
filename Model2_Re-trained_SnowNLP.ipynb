{
 "cells": [
  {
   "cell_type": "markdown",
   "metadata": {},
   "source": [
    "# Snownlp Training \n",
    "- Using 5,000,000 Weibo Corpus\n",
    "-  link: http://www.nlpir.org/wordpress/2018/01/26/500%E4%B8%87%E5%BE%AE%E5%8D%9A%E8%AF%AD%E6%96%99/"
   ]
  },
  {
   "cell_type": "code",
   "execution_count": null,
   "metadata": {},
   "outputs": [],
   "source": [
    "## import packages\n",
    "import re\n",
    "from snownlp import sentiment\n",
    "import numpy as np\n",
    "import pandas as pd\n",
    "import pymysql\n",
    "from snownlp import SnowNLP\n",
    "from snownlp import sentiment\n",
    "from snownlp.sentiment import Sentiment\n",
    "import matplotlib.pyplot as plt\n",
    "from tqdm import tqdm\n",
    "plt.style.use('ggplot')\n",
    "import time"
   ]
  },
  {
   "cell_type": "code",
   "execution_count": null,
   "metadata": {},
   "outputs": [],
   "source": [
    "## connect to SQL database server\n",
    "conn = pymysql.connect(host='localhost', user='root', password='******', charset=\"utf8\",use_unicode=False)\n",
    "with conn:\n",
    "    cur = conn.cursor()\n",
    "    cur.execute(\"SELECT * FROM test.weibo WHERE weiboId < '%d'\" % 5000000)\n",
    "    rows = cur.fetchall()"
   ]
  },
  {
   "cell_type": "code",
   "execution_count": null,
   "metadata": {},
   "outputs": [],
   "source": [
    "## transform all text to list\n",
    "comment = []\n",
    "for row in rows:\n",
    "    row = list(row)\n",
    "    comment.append(row[18])"
   ]
  },
  {
   "cell_type": "code",
   "execution_count": null,
   "metadata": {},
   "outputs": [],
   "source": [
    "## cleaning & model traning\n",
    "## notice that if snownlp classify corpus as extreme positive (>0.8), it will be classified as positive\n",
    "## if snownlp classfify corpus as extreme negative (<0.3), it will be classified as negative\n",
    "def train_model(texts):\n",
    "    for li in tqdm(texts):\n",
    "        comm = li.decode('utf-8')\n",
    "        text = re.sub(r'(?:回复)?(?://)?@[\\w\\u2E80-\\u9FFF]+:?|\\[\\w+\\]', ',',comm)\n",
    "        score = SnowNLP(text)\n",
    "        if score.sentiments > 0.8:\n",
    "            with open('pos.txt', mode='a', encoding='utf-8') as g:\n",
    "                g.writelines(comm +\"\\n\")\n",
    "        elif score.sentiments < 0.3:\n",
    "            with open('neg.txt', mode='a', encoding='utf-8') as f:\n",
    "                f.writelines(comm + \"\\n\")\n",
    "        else:\n",
    "            pass"
   ]
  },
  {
   "cell_type": "code",
   "execution_count": null,
   "metadata": {},
   "outputs": [],
   "source": [
    "## train all comments and get pos.txt & neg.txt\n",
    "%%time\n",
    "train_model(comment)"
   ]
  },
  {
   "cell_type": "code",
   "execution_count": null,
   "metadata": {},
   "outputs": [],
   "source": [
    "## retrain the bayes model embedded in snownlp package and save it\n",
    "%%time\n",
    "sentiment.train('neg.txt', 'pos.txt')\n",
    "sentiment.save('sentiment.marshal') "
   ]
  },
  {
   "cell_type": "markdown",
   "metadata": {},
   "source": [
    "# Apply ReTrained Model\n",
    "- use the newly trained sentiment.marshal as model\n",
    "- ues jieba package to replace the word splitting process in snownlp"
   ]
  },
  {
   "cell_type": "code",
   "execution_count": 1,
   "metadata": {},
   "outputs": [],
   "source": [
    "import jieba"
   ]
  },
  {
   "cell_type": "code",
   "execution_count": 2,
   "metadata": {},
   "outputs": [],
   "source": [
    "df = pd.read_csv('df_final.csv',encoding='utf-8')\n",
    "df = df[(df.content != '转发微博')&(df.content != 'repost')&(df.content != '')]\n",
    "df = df.dropna()\n",
    "df = df.reset_index(drop=True)"
   ]
  },
  {
   "cell_type": "code",
   "execution_count": 3,
   "metadata": {
    "scrolled": true
   },
   "outputs": [
    {
     "data": {
      "text/html": [
       "<div>\n",
       "<style scoped>\n",
       "    .dataframe tbody tr th:only-of-type {\n",
       "        vertical-align: middle;\n",
       "    }\n",
       "\n",
       "    .dataframe tbody tr th {\n",
       "        vertical-align: top;\n",
       "    }\n",
       "\n",
       "    .dataframe thead th {\n",
       "        text-align: right;\n",
       "    }\n",
       "</style>\n",
       "<table border=\"1\" class=\"dataframe\">\n",
       "  <thead>\n",
       "    <tr style=\"text-align: right;\">\n",
       "      <th></th>\n",
       "      <th>user_id</th>\n",
       "      <th>created_at</th>\n",
       "      <th>content</th>\n",
       "      <th>like_num</th>\n",
       "      <th>repost_num</th>\n",
       "      <th>comment_num</th>\n",
       "    </tr>\n",
       "  </thead>\n",
       "  <tbody>\n",
       "    <tr>\n",
       "      <th>0</th>\n",
       "      <td>1681872675</td>\n",
       "      <td>2020-01-20 08:10</td>\n",
       "      <td>发现满屏都是关于新冠肺炎在全国各地传播的新闻，虽可控可防，但还是觉得可怕，不禁想起09年非典...</td>\n",
       "      <td>0</td>\n",
       "      <td>0</td>\n",
       "      <td>0</td>\n",
       "    </tr>\n",
       "    <tr>\n",
       "      <th>1</th>\n",
       "      <td>1306052985</td>\n",
       "      <td>2020-01-20 08:21</td>\n",
       "      <td>三条通报的时间点好一致//首发症状大多为发热、咳嗽、胸闷、呼吸困难，这新冠肺炎还挺厉害的……</td>\n",
       "      <td>0</td>\n",
       "      <td>0</td>\n",
       "      <td>0</td>\n",
       "    </tr>\n",
       "    <tr>\n",
       "      <th>2</th>\n",
       "      <td>2218332387</td>\n",
       "      <td>2020-01-20 09:08</td>\n",
       "      <td>关于最近很猖狂的新冠型肺炎病毒 我们紧急召开了第二届家庭会议 与会人员：我、谢胖子 会议主题...</td>\n",
       "      <td>0</td>\n",
       "      <td>1</td>\n",
       "      <td>3</td>\n",
       "    </tr>\n",
       "    <tr>\n",
       "      <th>3</th>\n",
       "      <td>2167644005</td>\n",
       "      <td>2020-01-20 13:49</td>\n",
       "      <td>有过上海世博会的经历，各种排队不是个事儿。有过非典型肺炎的经验，武汉新冠也不会恐慌。</td>\n",
       "      <td>0</td>\n",
       "      <td>0</td>\n",
       "      <td>0</td>\n",
       "    </tr>\n",
       "    <tr>\n",
       "      <th>4</th>\n",
       "      <td>7339096067</td>\n",
       "      <td>2020-01-20 18:34</td>\n",
       "      <td>#星座[超话]# 仔细想想，自打1.12土冥合相之后就没什么好消息啊…叹气 更不用说这两天突...</td>\n",
       "      <td>4</td>\n",
       "      <td>0</td>\n",
       "      <td>7</td>\n",
       "    </tr>\n",
       "  </tbody>\n",
       "</table>\n",
       "</div>"
      ],
      "text/plain": [
       "      user_id        created_at  \\\n",
       "0  1681872675  2020-01-20 08:10   \n",
       "1  1306052985  2020-01-20 08:21   \n",
       "2  2218332387  2020-01-20 09:08   \n",
       "3  2167644005  2020-01-20 13:49   \n",
       "4  7339096067  2020-01-20 18:34   \n",
       "\n",
       "                                             content  like_num  repost_num  \\\n",
       "0  发现满屏都是关于新冠肺炎在全国各地传播的新闻，虽可控可防，但还是觉得可怕，不禁想起09年非典...         0           0   \n",
       "1     三条通报的时间点好一致//首发症状大多为发热、咳嗽、胸闷、呼吸困难，这新冠肺炎还挺厉害的……         0           0   \n",
       "2  关于最近很猖狂的新冠型肺炎病毒 我们紧急召开了第二届家庭会议 与会人员：我、谢胖子 会议主题...         0           1   \n",
       "3         有过上海世博会的经历，各种排队不是个事儿。有过非典型肺炎的经验，武汉新冠也不会恐慌。         0           0   \n",
       "4  #星座[超话]# 仔细想想，自打1.12土冥合相之后就没什么好消息啊…叹气 更不用说这两天突...         4           0   \n",
       "\n",
       "   comment_num  \n",
       "0            0  \n",
       "1            0  \n",
       "2            3  \n",
       "3            0  \n",
       "4            7  "
      ]
     },
     "execution_count": 3,
     "metadata": {},
     "output_type": "execute_result"
    }
   ],
   "source": [
    "df.head()"
   ]
  },
  {
   "cell_type": "code",
   "execution_count": 4,
   "metadata": {},
   "outputs": [],
   "source": [
    "df['sentiment'] = ''"
   ]
  },
  {
   "cell_type": "code",
   "execution_count": 5,
   "metadata": {},
   "outputs": [
    {
     "data": {
      "text/plain": [
       "(36655, 7)"
      ]
     },
     "execution_count": 5,
     "metadata": {},
     "output_type": "execute_result"
    }
   ],
   "source": [
    "df.shape"
   ]
  },
  {
   "cell_type": "code",
   "execution_count": null,
   "metadata": {},
   "outputs": [
    {
     "name": "stderr",
     "output_type": "stream",
     "text": [
      "Building prefix dict from the default dictionary ...\n",
      "Loading model from cache C:\\Users\\asus\\AppData\\Local\\Temp\\jieba.cache\n",
      "Loading model cost 0.732 seconds.\n",
      "Prefix dict has been built successfully.\n",
      "D:\\Anaconda\\lib\\site-packages\\ipykernel_launcher.py:9: SettingWithCopyWarning: \n",
      "A value is trying to be set on a copy of a slice from a DataFrame\n",
      "\n",
      "See the caveats in the documentation: http://pandas.pydata.org/pandas-docs/stable/indexing.html#indexing-view-versus-copy\n",
      "  if __name__ == '__main__':\n",
      "D:\\Anaconda\\lib\\site-packages\\ipykernel_launcher.py:11: SettingWithCopyWarning: \n",
      "A value is trying to be set on a copy of a slice from a DataFrame\n",
      "\n",
      "See the caveats in the documentation: http://pandas.pydata.org/pandas-docs/stable/indexing.html#indexing-view-versus-copy\n",
      "  # This is added back by InteractiveShellApp.init_path()\n"
     ]
    }
   ],
   "source": [
    "%%time\n",
    "for i in range(df.shape[0]):\n",
    "    comm = df.content[i]\n",
    "    text = re.sub(r'(http[s]?://(?:[a-zA-Z]|[0-9]|[$-_@.&+]|[!*\\(\\),]|(?:%[0-9a-fA-F][0-9a-fA-F]))+)','',comm)\n",
    "    text = re.sub(r'(?:回复)?(?://)?@[\\w\\u2E80-\\u9FFF]+:?|\\[\\w+\\]', ',',text)\n",
    "    r='[’！？：；【】，、《》!\"#$%&\\'()（）“”…*+,-./:;<=>?@[\\\\]^_`{|}~]+'\n",
    "    text = re.sub(r, '', text)\n",
    "    if text:\n",
    "        s = SnowNLP(text)\n",
    "        df['sentiment'][i] = s.sentiments\n",
    "    else:\n",
    "        df['sentiment'][i] = 0.5"
   ]
  },
  {
   "cell_type": "code",
   "execution_count": 24,
   "metadata": {},
   "outputs": [
    {
     "data": {
      "image/png": "[encoded data removed]",
      "text/plain": [
       "<Figure size 432x288 with 1 Axes>"
      ]
     },
     "metadata": {},
     "output_type": "display_data"
    }
   ],
   "source": [
    "senti = df.sentiment.tolist()\n",
    "ax = sns.distplot(senti)"
   ]
  },
  {
   "cell_type": "code",
   "execution_count": 29,
   "metadata": {},
   "outputs": [],
   "source": [
    "df.to_csv('retrain_data.csv')"
   ]
  }
 ],
 "metadata": {
  "kernelspec": {
   "display_name": "Python 3",
   "language": "python",
   "name": "python3"
  },
  "language_info": {
   "codemirror_mode": {
    "name": "ipython",
    "version": 3
   },
   "file_extension": ".py",
   "mimetype": "text/x-python",
   "name": "python",
   "nbconvert_exporter": "python",
   "pygments_lexer": "ipython3",
   "version": "3.7.1"
  }
 },
 "nbformat": 4,
 "nbformat_minor": 2
}
