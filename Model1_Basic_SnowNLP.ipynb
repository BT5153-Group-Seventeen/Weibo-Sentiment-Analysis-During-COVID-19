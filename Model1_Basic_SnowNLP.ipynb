{
 "cells": [
  {
   "cell_type": "code",
   "execution_count": 15,
   "metadata": {},
   "outputs": [],
   "source": [
    "# 导入所需的库\n",
    "import re\n",
    "from snownlp import sentiment\n",
    "import numpy as np\n",
    "import pandas as pd\n",
    "import pymysql\n",
    "from snownlp import SnowNLP\n",
    "from snownlp import sentiment\n",
    "from snownlp.sentiment import Sentiment\n",
    "import matplotlib.pyplot as plt\n",
    "from tqdm import tqdm\n",
    "plt.style.use('ggplot')"
   ]
  },
  {
   "cell_type": "code",
   "execution_count": 2,
   "metadata": {},
   "outputs": [],
   "source": [
    "df = pd.read_csv('df_final.csv')"
   ]
  },
  {
   "cell_type": "code",
   "execution_count": 125,
   "metadata": {
    "scrolled": false
   },
   "outputs": [],
   "source": [
    "df_new = df[(df.content != '转发微博')&(df.content != 'repost')&(df.content != '')]"
   ]
  },
  {
   "cell_type": "code",
   "execution_count": 126,
   "metadata": {
    "scrolled": true
   },
   "outputs": [],
   "source": [
    "data = df_new.dropna()"
   ]
  },
  {
   "cell_type": "code",
   "execution_count": 129,
   "metadata": {
    "scrolled": true
   },
   "outputs": [],
   "source": [
    "data.reset_index(drop=True, inplace=True)"
   ]
  },
  {
   "cell_type": "code",
   "execution_count": 131,
   "metadata": {},
   "outputs": [],
   "source": [
    "content = data['content']"
   ]
  },
  {
   "cell_type": "code",
   "execution_count": 139,
   "metadata": {},
   "outputs": [
    {
     "name": "stderr",
     "output_type": "stream",
     "text": [
      "D:\\Anaconda\\lib\\site-packages\\ipykernel_launcher.py:1: SettingWithCopyWarning: \n",
      "A value is trying to be set on a copy of a slice from a DataFrame.\n",
      "Try using .loc[row_indexer,col_indexer] = value instead\n",
      "\n",
      "See the caveats in the documentation: http://pandas.pydata.org/pandas-docs/stable/indexing.html#indexing-view-versus-copy\n",
      "  \"\"\"Entry point for launching an IPython kernel.\n"
     ]
    }
   ],
   "source": [
    "data['sentiment'] = None"
   ]
  },
  {
   "cell_type": "code",
   "execution_count": 146,
   "metadata": {
    "scrolled": false
   },
   "outputs": [
    {
     "name": "stderr",
     "output_type": "stream",
     "text": [
      "D:\\Anaconda\\lib\\site-packages\\ipykernel_launcher.py:10: SettingWithCopyWarning: \n",
      "A value is trying to be set on a copy of a slice from a DataFrame\n",
      "\n",
      "See the caveats in the documentation: http://pandas.pydata.org/pandas-docs/stable/indexing.html#indexing-view-versus-copy\n",
      "  # Remove the CWD from sys.path while we load stuff.\n",
      "D:\\Anaconda\\lib\\site-packages\\ipykernel_launcher.py:12: SettingWithCopyWarning: \n",
      "A value is trying to be set on a copy of a slice from a DataFrame\n",
      "\n",
      "See the caveats in the documentation: http://pandas.pydata.org/pandas-docs/stable/indexing.html#indexing-view-versus-copy\n",
      "  if sys.path[0] == '':\n"
     ]
    }
   ],
   "source": [
    "for i in range(data.shape[0]):\n",
    "    comm = content[i]\n",
    "    text = re.sub(r'(?:回复)?(?://)?@[\\w\\u2E80-\\u9FFF]+:?|\\[\\w+\\]', '', comm)\n",
    "    # replase @user / reply\n",
    "    r='[’！？：；【】，《》!\"#$%&\\'()（）“”…*+,-./:;<=>?@[\\\\]^_`{|}~]+'\n",
    "    text = re.sub(r, '', text)\n",
    "    # replace punctuations\n",
    "    if text:\n",
    "        s = SnowNLP(text)\n",
    "        data['sentiment'][i] = s.sentiments\n",
    "    # if after cleaning, the text is None, this repost will be assigned 0.5 sentiment score(neutral)\n",
    "    else:\n",
    "        data['sentiment'][i] = 0.5"
   ]
  },
  {
   "cell_type": "code",
   "execution_count": 149,
   "metadata": {},
   "outputs": [
    {
     "data": {
      "text/html": [
       "<div>\n",
       "<style scoped>\n",
       "    .dataframe tbody tr th:only-of-type {\n",
       "        vertical-align: middle;\n",
       "    }\n",
       "\n",
       "    .dataframe tbody tr th {\n",
       "        vertical-align: top;\n",
       "    }\n",
       "\n",
       "    .dataframe thead th {\n",
       "        text-align: right;\n",
       "    }\n",
       "</style>\n",
       "<table border=\"1\" class=\"dataframe\">\n",
       "  <thead>\n",
       "    <tr style=\"text-align: right;\">\n",
       "      <th></th>\n",
       "      <th>user_id</th>\n",
       "      <th>created_at</th>\n",
       "      <th>content</th>\n",
       "      <th>like_num</th>\n",
       "      <th>repost_num</th>\n",
       "      <th>comment_num</th>\n",
       "      <th>sentiment</th>\n",
       "    </tr>\n",
       "  </thead>\n",
       "  <tbody>\n",
       "    <tr>\n",
       "      <th>0</th>\n",
       "      <td>1681872675</td>\n",
       "      <td>2020-01-20 08:10</td>\n",
       "      <td>发现满屏都是关于新冠肺炎在全国各地传播的新闻，虽可控可防，但还是觉得可怕，不禁想起09年非典...</td>\n",
       "      <td>0</td>\n",
       "      <td>0</td>\n",
       "      <td>0</td>\n",
       "      <td>1</td>\n",
       "    </tr>\n",
       "    <tr>\n",
       "      <th>1</th>\n",
       "      <td>1306052985</td>\n",
       "      <td>2020-01-20 08:21</td>\n",
       "      <td>三条通报的时间点好一致//首发症状大多为发热、咳嗽、胸闷、呼吸困难，这新冠肺炎还挺厉害的……</td>\n",
       "      <td>0</td>\n",
       "      <td>0</td>\n",
       "      <td>0</td>\n",
       "      <td>0.702556</td>\n",
       "    </tr>\n",
       "    <tr>\n",
       "      <th>2</th>\n",
       "      <td>2218332387</td>\n",
       "      <td>2020-01-20 09:08</td>\n",
       "      <td>关于最近很猖狂的新冠型肺炎病毒 我们紧急召开了第二届家庭会议 与会人员：我、谢胖子 会议主题...</td>\n",
       "      <td>0</td>\n",
       "      <td>1</td>\n",
       "      <td>3</td>\n",
       "      <td>0.635958</td>\n",
       "    </tr>\n",
       "    <tr>\n",
       "      <th>3</th>\n",
       "      <td>2167644005</td>\n",
       "      <td>2020-01-20 13:49</td>\n",
       "      <td>有过上海世博会的经历，各种排队不是个事儿。有过非典型肺炎的经验，武汉新冠也不会恐慌。</td>\n",
       "      <td>0</td>\n",
       "      <td>0</td>\n",
       "      <td>0</td>\n",
       "      <td>0.00317119</td>\n",
       "    </tr>\n",
       "    <tr>\n",
       "      <th>4</th>\n",
       "      <td>7339096067</td>\n",
       "      <td>2020-01-20 18:34</td>\n",
       "      <td>#星座[超话]# 仔细想想，自打1.12土冥合相之后就没什么好消息啊…叹气 更不用说这两天突...</td>\n",
       "      <td>4</td>\n",
       "      <td>0</td>\n",
       "      <td>7</td>\n",
       "      <td>0.944389</td>\n",
       "    </tr>\n",
       "  </tbody>\n",
       "</table>\n",
       "</div>"
      ],
      "text/plain": [
       "      user_id        created_at  \\\n",
       "0  1681872675  2020-01-20 08:10   \n",
       "1  1306052985  2020-01-20 08:21   \n",
       "2  2218332387  2020-01-20 09:08   \n",
       "3  2167644005  2020-01-20 13:49   \n",
       "4  7339096067  2020-01-20 18:34   \n",
       "\n",
       "                                             content  like_num  repost_num  \\\n",
       "0  发现满屏都是关于新冠肺炎在全国各地传播的新闻，虽可控可防，但还是觉得可怕，不禁想起09年非典...         0           0   \n",
       "1     三条通报的时间点好一致//首发症状大多为发热、咳嗽、胸闷、呼吸困难，这新冠肺炎还挺厉害的……         0           0   \n",
       "2  关于最近很猖狂的新冠型肺炎病毒 我们紧急召开了第二届家庭会议 与会人员：我、谢胖子 会议主题...         0           1   \n",
       "3         有过上海世博会的经历，各种排队不是个事儿。有过非典型肺炎的经验，武汉新冠也不会恐慌。         0           0   \n",
       "4  #星座[超话]# 仔细想想，自打1.12土冥合相之后就没什么好消息啊…叹气 更不用说这两天突...         4           0   \n",
       "\n",
       "   comment_num   sentiment  \n",
       "0            0           1  \n",
       "1            0    0.702556  \n",
       "2            3    0.635958  \n",
       "3            0  0.00317119  \n",
       "4            7    0.944389  "
      ]
     },
     "execution_count": 149,
     "metadata": {},
     "output_type": "execute_result"
    }
   ],
   "source": [
    "data.head()"
   ]
  },
  {
   "cell_type": "code",
   "execution_count": 150,
   "metadata": {},
   "outputs": [],
   "source": [
    "import seaborn as sns"
   ]
  },
  {
   "cell_type": "code",
   "execution_count": 152,
   "metadata": {},
   "outputs": [],
   "source": [
    "senti = data.sentiment.tolist()"
   ]
  },
  {
   "cell_type": "code",
   "execution_count": 154,
   "metadata": {},
   "outputs": [
    {
     "data": {
      "image/png": "[encoded data removed]",
      "text/plain": [
       "<Figure size 432x288 with 1 Axes>"
      ]
     },
     "metadata": {
      "needs_background": "light"
     },
     "output_type": "display_data"
    }
   ],
   "source": [
    "# plot sentiment distribution\n",
    "ax = sns.distplot(senti)"
   ]
  },
  {
   "cell_type": "markdown",
   "metadata": {},
   "source": [
    "We can see that most comments are classified as positive ones."
   ]
  }
 ],
 "metadata": {
  "kernelspec": {
   "display_name": "Python 3",
   "language": "python",
   "name": "python3"
  },
  "language_info": {
   "codemirror_mode": {
    "name": "ipython",
    "version": 3
   },
   "file_extension": ".py",
   "mimetype": "text/x-python",
   "name": "python",
   "nbconvert_exporter": "python",
   "pygments_lexer": "ipython3",
   "version": "3.7.1"
  }
 },
 "nbformat": 4,
 "nbformat_minor": 2
}
