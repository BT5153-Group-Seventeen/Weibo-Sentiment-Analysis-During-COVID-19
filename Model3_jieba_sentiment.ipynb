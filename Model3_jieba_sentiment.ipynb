{
 "cells": [
  {
   "cell_type": "code",
   "execution_count": 1,
   "metadata": {},
   "outputs": [],
   "source": [
    "# coding:utf-8\n",
    "import jieba\n",
    "import numpy as np\n",
    "\n",
    "def open_dict(Dict = 'hahah', path=r'data/Textming'):\n",
    "    path = path + '%s.txt' % Dict\n",
    "    dictionary = open(path, 'r', encoding='utf-8')\n",
    "    dict = []\n",
    "    for word in dictionary:\n",
    "        word = word.strip('\\n')\n",
    "        dict.append(word)\n",
    "    return dict\n",
    " \n",
    " \n",
    " \n",
    "def judgeodd(num):\n",
    "    if (num % 2) == 0:\n",
    "        return 'even'\n",
    "    else:\n",
    "        return 'odd'\n",
    " \n",
    " \n",
    "#注意，这里你要修改path路径。\n",
    "deny_word = open_dict(Dict = 'deny', path= r'D:/MSBA/NLP/ChineseNLP_Sentiment/')\n",
    "posdict = open_dict(Dict = 'positive', path= r'D:/MSBA/NLP/ChineseNLP_Sentiment/')\n",
    "negdict = open_dict(Dict = 'negative', path= r'D:/MSBA/NLP/ChineseNLP_Sentiment/')\n",
    "degree_word = open_dict(Dict = 'level', path= r'D:/MSBA/NLP/ChineseNLP_Sentiment/')\n",
    "mostdict = degree_word[degree_word.index('extreme')+1 : degree_word.index('very')]#权重4，即在情感词前乘以4\n",
    "verydict = degree_word[degree_word.index('very')+1 : degree_word.index('more')]#权重3\n",
    "moredict = degree_word[degree_word.index('more')+1 : degree_word.index('ish')]#权重2\n",
    "ishdict = degree_word[degree_word.index('ish')+1 : degree_word.index('last')]#权重0.5\n",
    " \n",
    " \n",
    " \n",
    "def sentiment_score_list(dataset):\n",
    "    seg_sentence = dataset.split('。')\n",
    " \n",
    "    count1 = []\n",
    "    count2 = []\n",
    "    for sen in seg_sentence: #循环遍历每一个评论\n",
    "        segtmp = jieba.lcut(sen, cut_all=False)  #把句子进行分词，以列表的形式返回\n",
    "        i = 0 #记录扫描到的词的位置\n",
    "        a = 0 #记录情感词的位置\n",
    "        poscount = 0 #积极词的第一次分值\n",
    "        poscount2 = 0 #积极词反转后的分值\n",
    "        poscount3 = 0 #积极词的最后分值（包括叹号的分值）\n",
    "        negcount = 0\n",
    "        negcount2 = 0\n",
    "        negcount3 = 0\n",
    "        for word in segtmp:\n",
    "            if word in posdict:  # 判断词语是否是情感词\n",
    "                poscount += 1\n",
    "                c = 0\n",
    "                for w in segtmp[a:i]:  # 扫描情感词前的程度词\n",
    "                    if w in mostdict:\n",
    "                        poscount *= 4.0\n",
    "                    elif w in verydict:\n",
    "                        poscount *= 3.0\n",
    "                    elif w in moredict:\n",
    "                        poscount *= 2.0\n",
    "                    elif w in ishdict:\n",
    "                        poscount *= 0.5\n",
    "                    elif w in deny_word:\n",
    "                        c += 1\n",
    "                if judgeodd(c) == 'odd':  # 扫描情感词前的否定词数\n",
    "                    poscount *= -1.0\n",
    "                    poscount2 += poscount\n",
    "                    poscount = 0\n",
    "                    poscount3 = poscount + poscount2 + poscount3\n",
    "                    poscount2 = 0\n",
    "                else:\n",
    "                    poscount3 = poscount + poscount2 + poscount3\n",
    "                    poscount = 0\n",
    "                a = i + 1  # 情感词的位置变化\n",
    " \n",
    "            elif word in negdict:  # 消极情感的分析，与上面一致\n",
    "                negcount += 1\n",
    "                d = 0\n",
    "                for w in segtmp[a:i]:\n",
    "                    if w in mostdict:\n",
    "                        negcount *= 4.0\n",
    "                    elif w in verydict:\n",
    "                        negcount *= 3.0\n",
    "                    elif w in moredict:\n",
    "                        negcount *= 2.0\n",
    "                    elif w in ishdict:\n",
    "                        negcount *= 0.5\n",
    "                    elif w in degree_word:\n",
    "                        d += 1\n",
    "                if judgeodd(d) == 'odd':\n",
    "                    negcount *= -1.0\n",
    "                    negcount2 += negcount\n",
    "                    negcount = 0\n",
    "                    negcount3 = negcount + negcount2 + negcount3\n",
    "                    negcount2 = 0\n",
    "                else:\n",
    "                    negcount3 = negcount + negcount2 + negcount3\n",
    "                    negcount = 0\n",
    "                a = i + 1\n",
    "            elif word == '！' or word == '!':  ##判断句子是否有感叹号\n",
    "                for w2 in segtmp[::-1]:  # 扫描感叹号前的情感词，发现后权值+2，然后退出循环\n",
    "                    if w2 in posdict or negdict:\n",
    "                        poscount3 += 2\n",
    "                        negcount3 += 2\n",
    "                        break\n",
    "            i += 1 # 扫描词位置前移\n",
    " \n",
    " \n",
    "            # 以下是防止出现负数的情况\n",
    "            pos_count = 0\n",
    "            neg_count = 0\n",
    "            if poscount3 < 0 and negcount3 > 0:\n",
    "                neg_count += negcount3 - poscount3\n",
    "                pos_count = 0\n",
    "            elif negcount3 < 0 and poscount3 > 0:\n",
    "                pos_count = poscount3 - negcount3\n",
    "                neg_count = 0\n",
    "            elif poscount3 < 0 and negcount3 < 0:\n",
    "                neg_count = -poscount3\n",
    "                pos_count = -negcount3\n",
    "            else:\n",
    "                pos_count = poscount3\n",
    "                neg_count = negcount3\n",
    " \n",
    "            count1.append([pos_count, neg_count])\n",
    "        count2.append(count1)\n",
    "        count1 = []\n",
    " \n",
    "    return count2\n",
    " \n",
    "def sentiment_score(senti_score_list):\n",
    "    score = []\n",
    "    for review in senti_score_list:\n",
    "        score_array = np.array(review)\n",
    "        Pos = np.sum(score_array[:, 0])\n",
    "        Neg = np.sum(score_array[:, 1])\n",
    "        AvgPos = np.mean(score_array[:, 0])\n",
    "        AvgPos = float('%.1f'%AvgPos)\n",
    "        AvgNeg = np.mean(score_array[:, 1])\n",
    "        AvgNeg = float('%.1f'%AvgNeg)\n",
    "        StdPos = np.std(score_array[:, 0])\n",
    "        StdPos = float('%.1f'%StdPos)\n",
    "        StdNeg = np.std(score_array[:, 1])\n",
    "        StdNeg = float('%.1f'%StdNeg)\n",
    "        score.append([Pos, Neg, AvgPos, AvgNeg, StdPos, StdNeg]) #积极、消极情感值总和(最重要)，积极、消极情感均值，积极、消极情感方差。\n",
    "    return score\n",
    " \n",
    "def EmotionByScore(data):\n",
    "    result_list=sentiment_score(sentiment_score_list(data))\n",
    "    return result_list[0][0],result_list[0][1]\n",
    "    \n",
    " \n",
    " \n",
    "def JudgingEmotionByScore(Pos, Neg):\n",
    "    if Pos > Neg:\n",
    "        str='1'\n",
    "    elif Pos < Neg:\n",
    "        str='-1'\n",
    "    elif Pos == Neg:\n",
    "        str='0'\n",
    "    return str"
   ]
  },
  {
   "cell_type": "code",
   "execution_count": 1,
   "metadata": {},
   "outputs": [],
   "source": [
    "import re\n",
    "from snownlp import sentiment\n",
    "import numpy as np\n",
    "import pandas as pd\n",
    "import seaborn as sns\n",
    "import pymysql\n",
    "from snownlp import SnowNLP\n",
    "from snownlp import sentiment\n",
    "from snownlp.sentiment import Sentiment\n",
    "import matplotlib.pyplot as plt\n",
    "from tqdm import tqdm\n",
    "plt.style.use('ggplot')\n",
    "import jieba\n",
    "from wordcloud import WordCloud, STOPWORDS\n",
    "import matplotlib.pyplot as plt\n",
    "import seaborn as sns"
   ]
  },
  {
   "cell_type": "code",
   "execution_count": 2,
   "metadata": {},
   "outputs": [],
   "source": [
    "df = pd.read_csv('df_final.csv',encoding='utf-8')\n",
    "df = df[(df.content != '转发微博')&(df.content != 'repost')&(df.content != '')]\n",
    "df = df.dropna()\n",
    "df = df.reset_index(drop=True)"
   ]
  },
  {
   "cell_type": "code",
   "execution_count": 3,
   "metadata": {},
   "outputs": [],
   "source": [
    "df['sentiment'] = ''"
   ]
  },
  {
   "cell_type": "code",
   "execution_count": 6,
   "metadata": {
    "scrolled": true
   },
   "outputs": [
    {
     "name": "stderr",
     "output_type": "stream",
     "text": [
      "D:\\Anaconda\\lib\\site-packages\\ipykernel_launcher.py:10: SettingWithCopyWarning: \n",
      "A value is trying to be set on a copy of a slice from a DataFrame\n",
      "\n",
      "See the caveats in the documentation: http://pandas.pydata.org/pandas-docs/stable/indexing.html#indexing-view-versus-copy\n",
      "  # Remove the CWD from sys.path while we load stuff.\n",
      "D:\\Anaconda\\lib\\site-packages\\ipykernel_launcher.py:12: SettingWithCopyWarning: \n",
      "A value is trying to be set on a copy of a slice from a DataFrame\n",
      "\n",
      "See the caveats in the documentation: http://pandas.pydata.org/pandas-docs/stable/indexing.html#indexing-view-versus-copy\n",
      "  if sys.path[0] == '':\n"
     ]
    },
    {
     "name": "stdout",
     "output_type": "stream",
     "text": [
      "Wall time: 43min 28s\n"
     ]
    }
   ],
   "source": [
    "%%time\n",
    "for i in range(df.shape[0]):\n",
    "    comm = df.content[i]\n",
    "    text = re.sub(r'(http[s]?://(?:[a-zA-Z]|[0-9]|[$-_@.&+]|[!*\\(\\),]|(?:%[0-9a-fA-F][0-9a-fA-F]))+)','',comm)\n",
    "    text = re.sub(r'(?:回复)?(?://)?@[\\w\\u2E80-\\u9FFF]+:?|\\[\\w+\\]', ',',text)\n",
    "    r='[’！？：；【】，、。《》!\"#$%&\\'()（）“”…*+,-./:;<=>?@[\\\\]^_`{|}~]+'\n",
    "    text = re.sub(r, '', text)\n",
    "    if text:\n",
    "        a,b=EmotionByScore(text)\n",
    "        emotion=JudgingEmotionByScore(a,b)\n",
    "        df['sentiment'][i] = emotion\n",
    "    else:\n",
    "        df['sentiment'][i] = 0.5"
   ]
  },
  {
   "cell_type": "code",
   "execution_count": 13,
   "metadata": {
    "scrolled": true
   },
   "outputs": [
    {
     "data": {
      "text/plain": [
       "1      20224\n",
       "-1     12024\n",
       "0       4032\n",
       "0.5      375\n",
       "Name: sentiment, dtype: int64"
      ]
     },
     "execution_count": 13,
     "metadata": {},
     "output_type": "execute_result"
    }
   ],
   "source": [
    "df.sentiment.value_counts()"
   ]
  },
  {
   "cell_type": "code",
   "execution_count": 39,
   "metadata": {},
   "outputs": [],
   "source": [
    "df.to_csv('jieba_sentiment_data.csv')"
   ]
  },
  {
   "cell_type": "code",
   "execution_count": 14,
   "metadata": {},
   "outputs": [],
   "source": [
    "data_copy = df.copy()\n",
    "data_copy['created_at'] =  pd.to_datetime(data_copy['created_at'], format='%Y%m%d %H:%M')\n",
    "data_copy['sentiment'] = data_copy['sentiment'].astype('float')\n",
    "data_groupby = data_copy.groupby([data_copy['created_at'].dt.date])['sentiment'].mean()"
   ]
  },
  {
   "cell_type": "code",
   "execution_count": 15,
   "metadata": {},
   "outputs": [
    {
     "name": "stderr",
     "output_type": "stream",
     "text": [
      "D:\\Anaconda\\lib\\site-packages\\pandas\\plotting\\_converter.py:129: FutureWarning: Using an implicitly registered datetime converter for a matplotlib plotting method. The converter was registered by pandas on import. Future versions of pandas will require you to explicitly register matplotlib converters.\n",
      "\n",
      "To register the converters:\n",
      "\t>>> from pandas.plotting import register_matplotlib_converters\n",
      "\t>>> register_matplotlib_converters()\n",
      "  warnings.warn(msg, FutureWarning)\n"
     ]
    },
    {
     "data": {
      "text/plain": [
       "[<matplotlib.lines.Line2D at 0x2750eeb2400>]"
      ]
     },
     "execution_count": 15,
     "metadata": {},
     "output_type": "execute_result"
    },
    {
     "data": {
      "image/png": "[encoded data removed]",
      "text/plain": [
       "<Figure size 1440x288 with 1 Axes>"
      ]
     },
     "metadata": {},
     "output_type": "display_data"
    }
   ],
   "source": [
    "plt.figure(figsize=(20,4))\n",
    "plt.plot(data_groupby)"
   ]
  }
 ],
 "metadata": {
  "kernelspec": {
   "display_name": "Python 3",
   "language": "python",
   "name": "python3"
  },
  "language_info": {
   "codemirror_mode": {
    "name": "ipython",
    "version": 3
   },
   "file_extension": ".py",
   "mimetype": "text/x-python",
   "name": "python",
   "nbconvert_exporter": "python",
   "pygments_lexer": "ipython3",
   "version": "3.7.1"
  }
 },
 "nbformat": 4,
 "nbformat_minor": 2
}
